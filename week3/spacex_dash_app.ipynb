{
 "cells": [
  {
   "cell_type": "code",
   "execution_count": 7,
   "id": "ca602cd7-cf4d-4d4f-a29d-c65665e279c9",
   "metadata": {},
   "outputs": [
    {
     "data": {
      "text/html": [
       "\n",
       "        <iframe\n",
       "            width=\"100%\"\n",
       "            height=\"650\"\n",
       "            src=\"http://127.0.0.1:8050/\"\n",
       "            frameborder=\"0\"\n",
       "            allowfullscreen\n",
       "            \n",
       "        ></iframe>\n",
       "        "
      ],
      "text/plain": [
       "<IPython.lib.display.IFrame at 0x16eb1b88290>"
      ]
     },
     "metadata": {},
     "output_type": "display_data"
    }
   ],
   "source": [
    "# Import required libraries\n",
    "import pandas as pd\n",
    "import dash\n",
    "import dash_html_components as html\n",
    "import dash_core_components as dcc\n",
    "from dash.dependencies import Input, Output\n",
    "import plotly.express as px\n",
    "\n",
    "# Read the airline data into pandas dataframe\n",
    "spacex_df = pd.read_csv(\"spacex_launch_dash.csv\")\n",
    "max_payload = spacex_df['Payload Mass (kg)'].max()\n",
    "min_payload = spacex_df['Payload Mass (kg)'].min()\n",
    "\n",
    "# Create a dash application\n",
    "app = dash.Dash(__name__)\n",
    "\n",
    "# Generate options for the dropdown\n",
    "launch_sites = spacex_df['Launch Site'].unique().tolist()\n",
    "dropdown_options = [{'label': 'All Sites', 'value': 'ALL'}] + [{'label': site, 'value': site} for site in launch_sites]\n",
    "\n",
    "\n",
    "# Create an app layout\n",
    "app.layout = html.Div(children=[html.H1('SpaceX Launch Records Dashboard',\n",
    "                                        style={'textAlign': 'center', 'color': '#503D36',\n",
    "                                               'font-size': 40}),\n",
    "                                # TASK 1: Add a dropdown list to enable Launch Site selection\n",
    "                                # The default select value is for ALL sites\n",
    "                                dcc.Dropdown(id='site-dropdown',\n",
    "                                     options=dropdown_options,\n",
    "                                     value='ALL',\n",
    "                                     placeholder=\"Select a Launch Site here\",\n",
    "                                     searchable=True),\n",
    "                                html.Br(),\n",
    "\n",
    "                                # TASK 2: Add a pie chart to show the total successful launches count for all sites\n",
    "                                # If a specific launch site was selected, show the Success vs. Failed counts for the site\n",
    "                                html.Div(dcc.Graph(id='success-pie-chart')),\n",
    "                                html.Br(),\n",
    "\n",
    "                                html.P(\"Payload range (Kg):\"),\n",
    "                                # TASK 3: Add a slider to select payload range\n",
    "                                #dcc.RangeSlider(id='payload-slider',...)\n",
    "                                # Continuando dentro de su app.layout\n",
    "                                dcc.RangeSlider(id='payload-slider',\n",
    "                                    min=0, max=10000, step=1000,\n",
    "                                    marks={i: f'{i}' for i in range(0, 10001, 1000)},\n",
    "                                    value=[min_payload, max_payload]),\n",
    "\n",
    "                                # TASK 4: Add a scatter chart to show the correlation between payload and launch success\n",
    "                                html.Div(dcc.Graph(id='success-payload-scatter-chart')),\n",
    "                                ])\n",
    "\n",
    "# TASK 2:\n",
    "# Add a callback function for `site-dropdown` as input, `success-pie-chart` as output\n",
    "# Function decorator to specify function input and output\n",
    "@app.callback(\n",
    "    Output(component_id='success-pie-chart', component_property='figure'),\n",
    "    [Input(component_id='site-dropdown', component_property='value')]\n",
    ")\n",
    "def get_pie_chart(entered_site):\n",
    "    if entered_site == 'ALL':\n",
    "        # Filtrar los datos para todos los sitios\n",
    "        filtered_df = spacex_df\n",
    "        fig = px.pie(filtered_df, values='class', names='Launch Site',\n",
    "                     title='Total Success Launches for All Sites')\n",
    "    else:\n",
    "        # Filtrar los datos para el sitio seleccionado\n",
    "        filtered_df = spacex_df[spacex_df['Launch Site'] == entered_site]\n",
    "        fig = px.pie(filtered_df, names='class', \n",
    "                     title=f'Total Success and Failed Launches for Site {entered_site}')\n",
    "\n",
    "    fig.update_traces(textposition='inside', textinfo='percent+label')\n",
    "    return fig\n",
    "\n",
    "\n",
    "# TASK 4:\n",
    "# Add a callback function for `site-dropdown` and `payload-slider` as inputs, `success-payload-scatter-chart` as output\n",
    "@app.callback(\n",
    "    Output(component_id='success-payload-scatter-chart', component_property='figure'),\n",
    "    [Input(component_id='site-dropdown', component_property='value'),\n",
    "     Input(component_id='payload-slider', component_property='value')]\n",
    ")\n",
    "def update_scatter_chart(selected_site, payload_range):\n",
    "    # Filtrar los datos basados en el rango de payload\n",
    "    filtered_df = spacex_df[(spacex_df['Payload Mass (kg)'] >= payload_range[0]) & \n",
    "                            (spacex_df['Payload Mass (kg)'] <= payload_range[1])]\n",
    "    \n",
    "    if selected_site == 'ALL':\n",
    "        # Si se seleccionan todos los sitios, mostrar todos los lanzamientos dentro del rango de payload\n",
    "        fig = px.scatter(filtered_df, x='Payload Mass (kg)', y='class', \n",
    "                         color='Booster Version Category',\n",
    "                         title='Payload vs. Outcome for All Sites',\n",
    "                         labels={'class': 'Launch Outcome'},\n",
    "                         hover_data=['Booster Version'])\n",
    "    else:\n",
    "        # Filtrar aún más para el sitio seleccionado si no es ALL\n",
    "        filtered_df = filtered_df[filtered_df['Launch Site'] == selected_site]\n",
    "        fig = px.scatter(filtered_df, x='Payload Mass (kg)', y='class', \n",
    "                         color='Booster Version Category',\n",
    "                         title=f'Payload vs. Outcome for {selected_site}',\n",
    "                         labels={'class': 'Launch Outcome'},\n",
    "                         hover_data=['Booster Version'])\n",
    "    \n",
    "    # Mejorar la apariencia del gráfico\n",
    "    fig.update_yaxes(tickvals=[0, 1], ticktext=['Failed', 'Success'])\n",
    "    return fig\n",
    "\n",
    "# Run the app\n",
    "if __name__ == '__main__':\n",
    "    app.run_server()"
   ]
  },
  {
   "cell_type": "markdown",
   "id": "bc09fe10-27f6-42ca-bfe2-4ae34759c4dc",
   "metadata": {},
   "source": [
    "Finding Insights Visually\n",
    "Now with the dashboard completed, you should be able to use it to analyze SpaceX launch data, and answer the following questions:\n",
    "\n",
    "Which site has the largest successful launches?\n",
    "KSC LC-39A\n",
    "\n",
    "\n",
    "Which site has the highest launch success rate?\n",
    "KSC LC-39A\n",
    "\n",
    "Which payload range(s) has the highest launch success rate?\n",
    "3000 - 4000\n",
    "\n",
    "\n",
    "Which payload range(s) has the lowest launch success rate?\n",
    "6000-7000\n",
    "\n",
    "Which F9 Booster version (v1.0, v1.1, FT, B4, B5, etc.) has the highest\n",
    "launch success rate? B5"
   ]
  },
  {
   "cell_type": "code",
   "execution_count": 2,
   "id": "68b71455-1ec2-44a4-b61e-803c3d229518",
   "metadata": {},
   "outputs": [
    {
     "data": {
      "text/plain": [
       "Index(['Unnamed: 0', 'Flight Number', 'Launch Site', 'class',\n",
       "       'Payload Mass (kg)', 'Booster Version', 'Booster Version Category'],\n",
       "      dtype='object')"
      ]
     },
     "execution_count": 2,
     "metadata": {},
     "output_type": "execute_result"
    }
   ],
   "source": [
    "spacex_df.columns\n"
   ]
  },
  {
   "cell_type": "code",
   "execution_count": null,
   "id": "05c5b8fa-9900-4fc7-9924-57a2f3a6088c",
   "metadata": {},
   "outputs": [],
   "source": []
  }
 ],
 "metadata": {
  "kernelspec": {
   "display_name": "Python 3 (ipykernel)",
   "language": "python",
   "name": "python3"
  },
  "language_info": {
   "codemirror_mode": {
    "name": "ipython",
    "version": 3
   },
   "file_extension": ".py",
   "mimetype": "text/x-python",
   "name": "python",
   "nbconvert_exporter": "python",
   "pygments_lexer": "ipython3",
   "version": "3.11.7"
  }
 },
 "nbformat": 4,
 "nbformat_minor": 5
}
